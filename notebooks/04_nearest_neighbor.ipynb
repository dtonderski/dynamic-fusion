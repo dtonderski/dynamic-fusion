{
 "cells": [
  {
   "cell_type": "code",
   "execution_count": 8,
   "metadata": {},
   "outputs": [],
   "source": [
    "import torch\n",
    "import einops\n"
   ]
  },
  {
   "cell_type": "code",
   "execution_count": 9,
   "metadata": {},
   "outputs": [],
   "source": [
    "latent_codes = torch.rand(1,4,10,20)\n",
    "# B C X Y"
   ]
  },
  {
   "cell_type": "code",
   "execution_count": 10,
   "metadata": {},
   "outputs": [
    {
     "name": "stdout",
     "output_type": "stream",
     "text": [
      "torch.Size([1, 4, 12, 22])\n"
     ]
    }
   ],
   "source": [
    "latent_codes = torch.rand(1,4,10,20)\n",
    "\n",
    "# Now, we need to get B 9C X Y by concatenating nearest latent codes\n",
    "padded_latent_codes = torch.nn.functional.pad(latent_codes, (1,1,1,1))\n",
    "\n",
    "indices = [(0,-2), (1,-1), (2, None)]\n",
    "concatenated_latent_codes = torch.cat([padded_latent_codes[..., start_x:stop_x, start_y:stop_y] for start_x, stop_x in indices for start_y, stop_y in indices], dim=1)\n",
    "print(padded_latent_codes.shape)"
   ]
  },
  {
   "cell_type": "code",
   "execution_count": 11,
   "metadata": {},
   "outputs": [
    {
     "name": "stdout",
     "output_type": "stream",
     "text": [
      "0 -2 0 -2\n",
      "0 -2 1 -1\n",
      "0 -2 2 None\n",
      "1 -1 0 -2\n",
      "1 -1 1 -1\n",
      "1 -1 2 None\n",
      "2 None 0 -2\n",
      "2 None 1 -1\n",
      "2 None 2 None\n"
     ]
    },
    {
     "data": {
      "text/plain": [
       "[None, None, None, None, None, None, None, None, None]"
      ]
     },
     "execution_count": 11,
     "metadata": {},
     "output_type": "execute_result"
    }
   ],
   "source": [
    "indices = [(0,-2), (1,-1), (2, None)]\n",
    "\n",
    "[print(start_x,stop_x, start_y, stop_y) for start_x, stop_x in indices for start_y, stop_y in indices]"
   ]
  },
  {
   "cell_type": "code",
   "execution_count": 12,
   "metadata": {},
   "outputs": [],
   "source": [
    "concatenated_latent_codes = torch.cat([padded_latent_codes[..., start_x:stop_x, start_y:stop_y] for start_x, stop_x in indices for start_y, stop_y in indices], dim=1)"
   ]
  },
  {
   "cell_type": "code",
   "execution_count": 13,
   "metadata": {},
   "outputs": [],
   "source": [
    "test = torch.nn.functional.unfold(latent_codes, kernel_size=3, padding=1, stride=1)\n",
    "test_2d = einops.rearrange(test, \"B C (X Y) -> B C X Y\", X=10)\n",
    "test_2d_unfolded = einops.rearrange(test, \"B (C nine) (X Y) -> B nine C X Y\", nine=9, X=10)\n",
    "test_2d_rearranged = einops.rearrange(test, \"B (C nine) (X Y) -> B (nine C) X Y\", nine=9, X=10)"
   ]
  },
  {
   "cell_type": "code",
   "execution_count": 35,
   "metadata": {},
   "outputs": [
    {
     "data": {
      "text/plain": [
       "tensor(True)"
      ]
     },
     "execution_count": 35,
     "metadata": {},
     "output_type": "execute_result"
    }
   ],
   "source": [
    "torch.all(test_2d_rearranged == concatenated_latent_codes)"
   ]
  },
  {
   "cell_type": "code",
   "execution_count": 31,
   "metadata": {},
   "outputs": [
    {
     "data": {
      "text/plain": [
       "tensor([0.6268, 0.0577, 0.7081, 0.4242])"
      ]
     },
     "execution_count": 31,
     "metadata": {},
     "output_type": "execute_result"
    }
   ],
   "source": [
    "test_2d_unfolded[0,4,:,0,0]"
   ]
  },
  {
   "cell_type": "code",
   "execution_count": 32,
   "metadata": {},
   "outputs": [
    {
     "data": {
      "text/plain": [
       "tensor([[0.0000, 0.0000, 0.0000, 0.0000, 0.6268, 0.5980, 0.0000, 0.5939, 0.0602,\n",
       "         0.0000, 0.0000, 0.0000, 0.0000, 0.0577, 0.5561, 0.0000, 0.2734, 0.9174,\n",
       "         0.0000, 0.0000, 0.0000, 0.0000, 0.7081, 0.4224, 0.0000, 0.9177, 0.7042,\n",
       "         0.0000, 0.0000, 0.0000, 0.0000, 0.4242, 0.3268, 0.0000, 0.6078, 0.5160]])"
      ]
     },
     "execution_count": 32,
     "metadata": {},
     "output_type": "execute_result"
    }
   ],
   "source": [
    "test_2d[...,0,0]"
   ]
  },
  {
   "cell_type": "code",
   "execution_count": 80,
   "metadata": {},
   "outputs": [
    {
     "data": {
      "text/plain": [
       "tensor([[0.6647, 0.4870, 0.8606, 0.6289]])"
      ]
     },
     "execution_count": 80,
     "metadata": {},
     "output_type": "execute_result"
    }
   ],
   "source": [
    "latent_codes[..., 0,1]"
   ]
  },
  {
   "cell_type": "code",
   "execution_count": 86,
   "metadata": {},
   "outputs": [
    {
     "data": {
      "text/plain": [
       "tensor([[0.0000, 0.0000, 0.0000, 0.0000, 0.0000, 0.0000, 0.0000, 0.0000, 0.0000,\n",
       "         0.0000, 0.0000, 0.0000, 0.0000, 0.0000, 0.0000, 0.0000, 0.3386, 0.5537,\n",
       "         0.4891, 0.7990, 0.6647, 0.4870, 0.8606, 0.6289, 0.0000, 0.0000, 0.0000,\n",
       "         0.0000, 0.9919, 0.4100, 0.0449, 0.3308, 0.3333, 0.0579, 0.3864, 0.8924]])"
      ]
     },
     "execution_count": 86,
     "metadata": {},
     "output_type": "execute_result"
    }
   ],
   "source": [
    "concatenated_latent_codes[..., 0, 0]"
   ]
  },
  {
   "cell_type": "code",
   "execution_count": 50,
   "metadata": {},
   "outputs": [
    {
     "name": "stdout",
     "output_type": "stream",
     "text": [
      "tensor([True, True, True, True])\n",
      "tensor([True, True, True, True])\n"
     ]
    }
   ],
   "source": [
    "print(concatenated_latent_codes[0, 0:4, 2, 2] == concatenated_latent_codes[0, 16:20, 1, 1])\n",
    "print(concatenated_latent_codes[0, 16:20, 1, 1] == concatenated_latent_codes[0, 32:36, 0, 0])"
   ]
  },
  {
   "cell_type": "code",
   "execution_count": 6,
   "metadata": {},
   "outputs": [
    {
     "name": "stdout",
     "output_type": "stream",
     "text": [
      "torch.Size([10, 1, 10, 20])\n"
     ]
    }
   ],
   "source": [
    "a = torch.rand(10)\n",
    "print(einops.repeat(a, \"B -> B 1 X Y\", X=10, Y=20).shape)"
   ]
  },
  {
   "cell_type": "code",
   "execution_count": null,
   "metadata": {},
   "outputs": [],
   "source": []
  }
 ],
 "metadata": {
  "kernelspec": {
   "display_name": "thesis2",
   "language": "python",
   "name": "python3"
  },
  "language_info": {
   "codemirror_mode": {
    "name": "ipython",
    "version": 3
   },
   "file_extension": ".py",
   "mimetype": "text/x-python",
   "name": "python",
   "nbconvert_exporter": "python",
   "pygments_lexer": "ipython3",
   "version": "3.9.18"
  }
 },
 "nbformat": 4,
 "nbformat_minor": 2
}
