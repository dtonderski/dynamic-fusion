{
 "cells": [
  {
   "cell_type": "code",
   "execution_count": 5,
   "metadata": {},
   "outputs": [],
   "source": [
    "import numpy as np\n",
    "from matplotlib import pyplot as plt"
   ]
  },
  {
   "cell_type": "code",
   "execution_count": null,
   "metadata": {},
   "outputs": [],
   "source": [
    "initial_size = (20, 20)\n",
    "output_size = (50, 50)"
   ]
  },
  {
   "cell_type": "code",
   "execution_count": 25,
   "metadata": {},
   "outputs": [
    {
     "data": {
      "text/plain": [
       "(0.0, 1.0)"
      ]
     },
     "execution_count": 25,
     "metadata": {},
     "output_type": "execute_result"
    },
    {
     "data": {
      "image/png": "[encoded data removed]",
      "text/plain": [
       "<Figure size 640x480 with 1 Axes>"
      ]
     },
     "metadata": {},
     "output_type": "display_data"
    }
   ],
   "source": [
    "coordinates = np.linspace(0, 1, 21)[1:] - 1/40\n",
    "\n",
    "new_coordinates = np.linspace(0, 1, 51)[1:] - 1/100\n",
    "\n",
    "plt.plot(coordinates, np.ones_like(coordinates), 'x')\n",
    "\n",
    "plt.plot(new_coordinates, np.ones_like(new_coordinates), '.')\n",
    "plt.xlim([0,1])"
   ]
  },
  {
   "cell_type": "code",
   "execution_count": 5,
   "metadata": {},
   "outputs": [
    {
     "data": {
      "text/plain": [
       "tensor([[-0.6667, -0.6667],\n",
       "        [-0.6667,  0.0000],\n",
       "        [-0.6667,  0.6667],\n",
       "        [ 0.0000, -0.6667],\n",
       "        [ 0.0000,  0.0000],\n",
       "        [ 0.0000,  0.6667],\n",
       "        [ 0.6667, -0.6667],\n",
       "        [ 0.6667,  0.0000],\n",
       "        [ 0.6667,  0.6667]])"
      ]
     },
     "execution_count": 5,
     "metadata": {},
     "output_type": "execute_result"
    }
   ],
   "source": [
    "import torch\n",
    "def make_coord(shape, ranges=None, flatten=True):\n",
    "    \"\"\" Make coordinates at grid centers.\n",
    "    \"\"\"\n",
    "    coord_seqs = []\n",
    "    for i, n in enumerate(shape):\n",
    "        if ranges is None:\n",
    "            v0, v1 = -1, 1\n",
    "        else:\n",
    "            v0, v1 = ranges[i]\n",
    "        r = (v1 - v0) / (2 * n)\n",
    "        seq = v0 + r + (2 * r) * torch.arange(n).float()\n",
    "        coord_seqs.append(seq)\n",
    "    ret = torch.stack(torch.meshgrid(*coord_seqs), dim=-1)\n",
    "    if flatten:\n",
    "        ret = ret.view(-1, ret.shape[-1])\n",
    "    return ret\n",
    "\n",
    "make_coord([3,3])"
   ]
  },
  {
   "cell_type": "code",
   "execution_count": null,
   "metadata": {},
   "outputs": [],
   "source": []
  },
  {
   "cell_type": "code",
   "execution_count": 9,
   "metadata": {},
   "outputs": [
    {
     "name": "stdout",
     "output_type": "stream",
     "text": [
      "tensor([[-0.6667, -0.6667],\n",
      "        [-0.6667,  0.0000],\n",
      "        [-0.6667,  0.6667],\n",
      "        [ 0.0000, -0.6667],\n",
      "        [ 0.0000,  0.0000],\n",
      "        [ 0.0000,  0.6667],\n",
      "        [ 0.6667, -0.6667],\n",
      "        [ 0.6667,  0.0000],\n",
      "        [ 0.6667,  0.6667]])\n",
      "tensor(-0.8000) tensor(-0.8000)\n",
      "tensor(-0.8000) tensor(-0.4000)\n",
      "tensor(-0.8000) tensor(0.)\n",
      "tensor(-0.8000) tensor(0.4000)\n",
      "tensor(-0.8000) tensor(0.8000)\n",
      "tensor(-0.4000) tensor(-0.8000)\n",
      "tensor(-0.4000) tensor(-0.4000)\n",
      "tensor(-0.4000) tensor(0.)\n",
      "tensor(-0.4000) tensor(0.4000)\n",
      "tensor(-0.4000) tensor(0.8000)\n",
      "tensor(0.) tensor(-0.8000)\n",
      "tensor(0.) tensor(-0.4000)\n",
      "tensor(0.) tensor(0.)\n",
      "tensor(0.) tensor(0.4000)\n",
      "tensor(0.) tensor(0.8000)\n",
      "tensor(0.4000) tensor(-0.8000)\n",
      "tensor(0.4000) tensor(-0.4000)\n",
      "tensor(0.4000) tensor(0.)\n",
      "tensor(0.4000) tensor(0.4000)\n",
      "tensor(0.4000) tensor(0.8000)\n",
      "tensor(0.8000) tensor(-0.8000)\n",
      "tensor(0.8000) tensor(-0.4000)\n",
      "tensor(0.8000) tensor(0.)\n",
      "tensor(0.8000) tensor(0.4000)\n",
      "tensor(0.8000) tensor(0.8000)\n"
     ]
    }
   ],
   "source": [
    "def generate_upsampling_vectors(start_resolution: tuple[int, int], end_resolution: tuple[int, int]) -> list[tuple[tuple[int, int], tuple[float, float]]]:\n",
    "    # For each start resolution pixel, output the vector to the nearest end pixels\n",
    "\n",
    "    start_coords = make_coord(start_resolution)\n",
    "    print(start_coords)\n",
    "    for end_x, end_y in make_coord(end_resolution):\n",
    "        \n",
    "\n",
    "        print(end_x, end_y)            \n",
    "\n",
    "\n",
    "    pass\n",
    "\n",
    "generate_upsampling_vectors([3,3], [5,5])"
   ]
  },
  {
   "cell_type": "code",
   "execution_count": 36,
   "metadata": {},
   "outputs": [
    {
     "name": "stdout",
     "output_type": "stream",
     "text": [
      "[0.125 0.375 0.625 0.875]\n",
      "[0.1 0.3 0.5 0.7 0.9]\n",
      "[0, 1, 2, 2, 3]\n",
      "[-1, 0, 1, 3, 4]\n",
      "[-0.024999999999999994, -0.07499999999999996, -0.12499999999999989, 0.07500000000000007, 0.025000000000000022]\n",
      "[None, 0.17500000000000004, 0.1250000000000001, -0.17499999999999993, None]\n"
     ]
    }
   ],
   "source": [
    "def generate_coords(resolution: int):\n",
    "    return np.linspace(0,1,resolution+1)[1:] - 1/(2*resolution)\n",
    "\n",
    "start_resolution = 4\n",
    "end_resolution = 5\n",
    "\n",
    "start_coords = generate_coords(start_resolution)\n",
    "end_coords = generate_coords(end_resolution)\n",
    "# coords = [0.25, 0.5, 0.75]\n",
    "\n",
    "assignments = []\n",
    "second_assignments = []\n",
    "distances = []\n",
    "next_distances = []\n",
    "\n",
    "for coord in end_coords:\n",
    "    nearest_pixel = int(np.floor(coord*start_resolution))\n",
    "    vector_to_nearest_pixel = coord - start_coords[nearest_pixel]\n",
    "    next_nearest_pixel = nearest_pixel + 1 if vector_to_nearest_pixel > 0 else nearest_pixel - 1\n",
    "\n",
    "    assignments.append(nearest_pixel)\n",
    "    second_assignments.append(next_nearest_pixel)\n",
    "    distances.append(vector_to_nearest_pixel)\n",
    "    next_distances.append(coord - start_coords[next_nearest_pixel] if next_nearest_pixel in range(start_resolution) else None)\n",
    "    \n",
    "\n",
    "print(start_coords)\n",
    "print(end_coords)\n",
    "\n",
    "print(assignments)\n",
    "print(second_assignments)\n",
    "print(distances)\n",
    "print(next_distances)"
   ]
  },
  {
   "cell_type": "code",
   "execution_count": null,
   "metadata": {},
   "outputs": [],
   "source": [
    "# For each spatio-temporal coordinate (x, y, t), I will need to get the 8 (2 in each dimensions) latent codes that \n",
    "# I need to query as well as the distances (dx, dy, dt) to them, and run decoder(zstar, dx, dy, dt). Time is easy,\n",
    "# because I am iterating over time, and dt is just my sampled tau.\n",
    "\n",
    "# foreach x, y in end_pixel_indices:\n",
    "#   x,y /= end_resolution\n",
    "#   nearest_pixel_x, nearest_pixel_y = floor(x,y * start_resolution)\n",
    "#   vector_to_nearest_pixel = coord - start_coords[nearest_pixel]"
   ]
  },
  {
   "cell_type": "code",
   "execution_count": 46,
   "metadata": {},
   "outputs": [
    {
     "ename": "IndexError",
     "evalue": "index 4 is out of bounds for dimension 0 with size 4",
     "output_type": "error",
     "traceback": [
      "\u001b[0;31m---------------------------------------------------------------------------\u001b[0m",
      "\u001b[0;31mIndexError\u001b[0m                                Traceback (most recent call last)",
      "Cell \u001b[0;32mIn[46], line 4\u001b[0m\n\u001b[1;32m      1\u001b[0m c \u001b[38;5;241m=\u001b[39m torch\u001b[38;5;241m.\u001b[39mrand(\u001b[38;5;241m8\u001b[39m, start_resolution)\n\u001b[1;32m      3\u001b[0m c[:, assignments]\n\u001b[0;32m----> 4\u001b[0m \u001b[43mc\u001b[49m\u001b[43m[\u001b[49m\u001b[43m:\u001b[49m\u001b[43m,\u001b[49m\u001b[43m \u001b[49m\u001b[43msecond_assignments\u001b[49m\u001b[43m]\u001b[49m\n",
      "\u001b[0;31mIndexError\u001b[0m: index 4 is out of bounds for dimension 0 with size 4"
     ]
    }
   ],
   "source": [
    "c = torch.rand(8, start_resolution)\n",
    "\n",
    "c[:, assignments]\n",
    "c[:, [i for i in second_assignments if i]]\n",
    "\n"
   ]
  },
  {
   "cell_type": "code",
   "execution_count": 38,
   "metadata": {},
   "outputs": [],
   "source": [
    "from itertools import product\n",
    "from jaxtyping import Float\n",
    "import numpy as np\n",
    "\n",
    "def generate_coords_2d(resolution: tuple[int, int]) -> Float[np.ndarray, \"X Y 2\"]:\n",
    "    a = generate_coords_1d(resolution[0])\n",
    "    b = generate_coords_1d(resolution[1])\n",
    "    A, B = np.meshgrid(a, b)\n",
    "\n",
    "    # Flatten the arrays and pair them\n",
    "    return np.array([A, B]).T\n",
    "\n",
    "\n",
    "def generate_coords_1d(resolution: int) -> list[float]:\n",
    "    return np.linspace(0,1,resolution+1)[1:] - 1/(2*resolution)\n",
    "\n",
    "start_resolution = np.array([2,3])\n",
    "end_resolution = np.array([4,5])\n",
    "start_coords = generate_coords_2d(start_resolution)\n",
    "end_coords = generate_coords_2d(end_resolution)\n",
    "\n",
    "nearest_pixels = np.zeros((4, *end_resolution, 2))\n",
    "\n",
    "skipped_coordinates = []\n",
    "\n",
    "for i_end, j_end in product(range(end_resolution[0]), range(end_resolution[1])):\n",
    "    end_coord = end_coords[i_end, j_end]\n",
    "    nearest_pixel = np.floor(end_coord*start_resolution).astype(int)\n",
    "    vector_from_nearest_start_to_end = end_coord - start_coords[nearest_pixel[0], nearest_pixel[1]]\n",
    "    next_x, next_y = (vector_from_nearest_start_to_end > 0)*2-1\n",
    "\n",
    "    # if nearest_pixel[0] + next_x not in range(end_resolution[0]) or nearest_pixel[1] + next_y not in range(end_resolution[1]):\n",
    "    #     continue\n",
    "    nearest_pixels[0, i_end, j_end] = nearest_pixel\n",
    "    nearest_pixels[1, i_end, j_end] = np.array([nearest_pixel[0]+next_x, nearest_pixel[1]])\n",
    "    nearest_pixels[2, i_end, j_end] = np.array([nearest_pixel[0], nearest_pixel[1]+next_y])\n",
    "    nearest_pixels[3, i_end, j_end] = np.array([nearest_pixel[0]+next_x, nearest_pixel[1]+next_y])\n",
    "\n",
    "# I want to output a vector a = [2,4,x,y] (dim, n_nearest, i_x, i_y) containing \n",
    "# all the assigned pixel indices, so that i can do latent_code[:, t, a[0], a[1]] \n",
    "# and get a tensor c of shape [C,4,x,y] of all the codes that I need. Then, I \n",
    "# need a tensor of vectors to those assigned indices, again of shape [2, i], that \n",
    "# I can concatenate it with c and get a tensor [C+2, I]. Then I also append tau \n",
    "# (which is constant across all Is) to get [C+3, I] which I can then run through \n",
    "# the decoding network\n",
    "nearest_pixels.shape\n",
    "nearest_pixels = nearest_pixels.astype(int)"
   ]
  },
  {
   "cell_type": "code",
   "execution_count": 11,
   "metadata": {},
   "outputs": [
    {
     "data": {
      "text/plain": [
       "(8, 4, 5, 2)"
      ]
     },
     "execution_count": 11,
     "metadata": {},
     "output_type": "execute_result"
    }
   ],
   "source": [
    "latent_code = np.random.rand(8, 4, 5)\n",
    "latent_code[:, nearest_pixels[0], nearest_pixels[1]].shape"
   ]
  },
  {
   "cell_type": "code",
   "execution_count": 12,
   "metadata": {},
   "outputs": [],
   "source": [
    "x_out_of_bounds = np.logical_or(nearest_pixels[..., 0] < 0, nearest_pixels[..., 0] >= start_coords.shape[0])\n",
    "y_out_of_bounds = np.logical_or(nearest_pixels[..., 1] < 0, nearest_pixels[..., 1] >= start_coords.shape[1])\n",
    "out_of_bounds = np.logical_or(x_out_of_bounds, y_out_of_bounds)\n",
    "nearest_pixels[out_of_bounds] = 0"
   ]
  },
  {
   "cell_type": "code",
   "execution_count": 14,
   "metadata": {},
   "outputs": [],
   "source": [
    "nearest_start_coords = start_coords[nearest_pixels[..., 0], nearest_pixels[..., 1]]"
   ]
  },
  {
   "cell_type": "code",
   "execution_count": 24,
   "metadata": {},
   "outputs": [],
   "source": [
    "start_to_end_vectors = end_coords[None, :] - nearest_start_coords"
   ]
  },
  {
   "cell_type": "code",
   "execution_count": 26,
   "metadata": {},
   "outputs": [
    {
     "data": {
      "text/plain": [
       "array([0.125     , 0.13333333])"
      ]
     },
     "execution_count": 26,
     "metadata": {},
     "output_type": "execute_result"
    }
   ],
   "source": [
    "start_to_end_vectors[0,1,1]"
   ]
  },
  {
   "cell_type": "code",
   "execution_count": 28,
   "metadata": {},
   "outputs": [
    {
     "data": {
      "text/plain": [
       "array([0, 0])"
      ]
     },
     "execution_count": 28,
     "metadata": {},
     "output_type": "execute_result"
    }
   ],
   "source": [
    "nearest_pixels[0,1,1]"
   ]
  },
  {
   "cell_type": "code",
   "execution_count": 30,
   "metadata": {},
   "outputs": [
    {
     "data": {
      "text/plain": [
       "array([0.25      , 0.16666667])"
      ]
     },
     "execution_count": 30,
     "metadata": {},
     "output_type": "execute_result"
    }
   ],
   "source": [
    "start_coords[0,0]"
   ]
  },
  {
   "cell_type": "code",
   "execution_count": 32,
   "metadata": {},
   "outputs": [
    {
     "data": {
      "text/plain": [
       "array([0.375, 0.3  ])"
      ]
     },
     "execution_count": 32,
     "metadata": {},
     "output_type": "execute_result"
    }
   ],
   "source": [
    "end_coords[1,1]"
   ]
  },
  {
   "cell_type": "code",
   "execution_count": 66,
   "metadata": {},
   "outputs": [],
   "source": [
    "from jaxtyping import Int, Bool\n",
    "\n",
    "\n",
    "def get_upscaling_pixel_indices_and_distances(\n",
    "    start_resolution: tuple[int, int], end_resolution: tuple[int, int]\n",
    ") -> tuple[Int[np.ndarray, \"4 XUpscaled YUpscaled 2\"], Float[np.ndarray, \"4 XUpscaled YUpscaled 2\"], Bool[np.ndarray, \"4 XUpscaled YUpscaled\"]]:\n",
    "    start_coords = generate_coords_2d(start_resolution)\n",
    "    end_coords = generate_coords_2d(end_resolution)\n",
    "    nearest_pixels = np.zeros((4, *end_resolution, 2))\n",
    "\n",
    "    for i_end, j_end in product(range(end_resolution[0]), range(end_resolution[1])):\n",
    "        end_coord = end_coords[i_end, j_end]\n",
    "        nearest_pixel = np.floor(end_coord*start_resolution).astype(int)\n",
    "        vector_from_nearest_start_to_end = end_coord - start_coords[nearest_pixel[0], nearest_pixel[1]]\n",
    "        next_x, next_y = (vector_from_nearest_start_to_end > 0)*2-1\n",
    "\n",
    "        # if nearest_pixel[0] + next_x not in range(end_resolution[0]) or nearest_pixel[1] + next_y not in range(end_resolution[1]):\n",
    "        #     continue\n",
    "        nearest_pixels[0, i_end, j_end] = nearest_pixel\n",
    "        nearest_pixels[1, i_end, j_end] = np.array([nearest_pixel[0]+next_x, nearest_pixel[1]])\n",
    "        nearest_pixels[2, i_end, j_end] = np.array([nearest_pixel[0], nearest_pixel[1]+next_y])\n",
    "        nearest_pixels[3, i_end, j_end] = np.array([nearest_pixel[0]+next_x, nearest_pixel[1]+next_y])\n",
    "    \n",
    "    x_out_of_bounds = np.logical_or(nearest_pixels[..., 0] < 0, nearest_pixels[..., 0] >= start_coords.shape[0])\n",
    "    y_out_of_bounds = np.logical_or(nearest_pixels[..., 1] < 0, nearest_pixels[..., 1] >= start_coords.shape[1])\n",
    "    out_of_bounds = np.logical_or(x_out_of_bounds, y_out_of_bounds)\n",
    "    nearest_pixels[out_of_bounds] = 0\n",
    "\n",
    "    nearest_pixels = nearest_pixels.astype(int)\n",
    "\n",
    "\n",
    "    nearest_start_coords = start_coords[nearest_pixels[..., 0], nearest_pixels[..., 1]]\n",
    "    start_to_end_vectors = end_coords[None, :] - nearest_start_coords\n",
    "\n",
    "    return nearest_pixels, start_to_end_vectors, out_of_bounds"
   ]
  },
  {
   "cell_type": "code",
   "execution_count": 68,
   "metadata": {},
   "outputs": [
    {
     "name": "stdout",
     "output_type": "stream",
     "text": [
      "(4, 6, 6, 2)\n",
      "(4, 6, 6, 2)\n",
      "(4, 6, 6)\n"
     ]
    }
   ],
   "source": [
    "start_resolution = (3,3)\n",
    "end_resolution = (6,6)\n",
    "nearest, vectors, out_of_bounds = get_upscaling_pixel_indices_and_distances(start_resolution, end_resolution)\n",
    "start_coords = generate_coords_2d(start_resolution)\n",
    "end_coords = generate_coords_2d(end_resolution)\n",
    "\n",
    "print(nearest.shape)\n",
    "print(vectors.shape)\n",
    "print(out_of_bounds.shape)\n"
   ]
  },
  {
   "cell_type": "code",
   "execution_count": 98,
   "metadata": {},
   "outputs": [
    {
     "data": {
      "text/plain": [
       "array([0.16666667, 0.16666667])"
      ]
     },
     "execution_count": 98,
     "metadata": {},
     "output_type": "execute_result"
    }
   ],
   "source": [
    "vectors[0, 1,1]\n",
    "current_start_coord[1, 1]"
   ]
  },
  {
   "cell_type": "code",
   "execution_count": 128,
   "metadata": {},
   "outputs": [
    {
     "data": {
      "image/png": "[encoded data removed]",
      "text/plain": [
       "<Figure size 640x480 with 1 Axes>"
      ]
     },
     "metadata": {},
     "output_type": "display_data"
    }
   ],
   "source": [
    "from matplotlib import pyplot as plt\n",
    "flat_start = np.reshape(start_coords, (-1, 2))\n",
    "flat_end = np.reshape(end_coords, (-1, 2))\n",
    "plt.plot(flat_start[:, 0], flat_start[:,1], 'o')\n",
    "plt.plot(flat_end[:, 0], flat_end[:,1], 'o')\n",
    "\n",
    "colors = ['r', 'g', 'b', 'y']\n",
    "\n",
    "for index, vector, invalid, color in zip(nearest, vectors, out_of_bounds, colors):\n",
    "    vector = vector*(1-invalid[..., None])\n",
    "    current_start_coord = start_coords[index[..., 0], index[..., 1]]\n",
    "    \n",
    "    plt.quiver(current_start_coord[..., 0], current_start_coord[..., 1], vector[..., 0], vector[..., 1], scale=1, scale_units='xy', color=color, width=0.002, headwidth=10,headlength=10)\n",
    "\n",
    "plt.axis('equal')\n",
    "plt.xlim([0,1])\n",
    "plt.ylim([0,1])\n",
    "plt.show()"
   ]
  },
  {
   "cell_type": "code",
   "execution_count": null,
   "metadata": {},
   "outputs": [],
   "source": []
  },
  {
   "cell_type": "code",
   "execution_count": null,
   "metadata": {},
   "outputs": [],
   "source": [
    "star"
   ]
  }
 ],
 "metadata": {
  "kernelspec": {
   "display_name": "thesis",
   "language": "python",
   "name": "python3"
  },
  "language_info": {
   "codemirror_mode": {
    "name": "ipython",
    "version": 3
   },
   "file_extension": ".py",
   "mimetype": "text/x-python",
   "name": "python",
   "nbconvert_exporter": "python",
   "pygments_lexer": "ipython3",
   "version": "3.9.18"
  }
 },
 "nbformat": 4,
 "nbformat_minor": 2
}
