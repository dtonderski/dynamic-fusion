{
 "cells": [
  {
   "cell_type": "code",
   "execution_count": 10,
   "metadata": {},
   "outputs": [
    {
     "name": "stdout",
     "output_type": "stream",
     "text": [
      "<KeysViewHDF5 ['duration', 'num_events', 'num_flow', 'num_imgs', 'num_neg', 'num_pos', 'sensor_resolution', 't0', 'tk']>\n",
      "unknown\n"
     ]
    },
    {
     "data": {
      "text/plain": [
       "3904717"
      ]
     },
     "execution_count": 10,
     "metadata": {},
     "output_type": "execute_result"
    },
    {
     "name": "stderr",
     "output_type": "stream",
     "text": []
    }
   ],
   "source": [
    "import h5py\n",
    "from pathlib import Path\n",
    "import numpy as np\n",
    "\n",
    "N = 2\n",
    "path = Path(f'../data/raw/eventhdr/eval/{N}.h5')\n",
    "COMBINE_FRAMES = 5\n",
    "\n",
    "\n",
    "with h5py.File(path, \"r\") as file:\n",
    "    p = np.array(file['events/ps'])\n",
    "    t = np.array(file['events/ts'])\n",
    "    x = np.array(file['events/xs'])\n",
    "    y = np.array(file['events/ys'])\n",
    "    frame_ts = []\n",
    "    all_frame_ts = []\n",
    "    print(file.attrs.keys())\n",
    "    # print(file.attrs['duration'])\n",
    "    print(file.attrs.get('source', 'unknown'))\n",
    "    frames = []\n",
    "    all_frames = []\n",
    "    resolution = file.attrs.get('sensor_resolution')\n",
    "    for i, img_name in enumerate(file['images']):\n",
    "        all_frame_ts.append(file[f'images/{img_name}'].attrs['timestamp'])\n",
    "        all_frames.append(np.array(file['images'][img_name]))\n",
    "        if i % COMBINE_FRAMES != 0:\n",
    "            continue\n",
    "        frame_ts.append(file[f'images/{img_name}'].attrs['timestamp'])\n",
    "        frames.append(np.array(file['images'][img_name]))\n",
    "\n",
    "len(p)"
   ]
  },
  {
   "cell_type": "code",
   "execution_count": 2,
   "metadata": {},
   "outputs": [],
   "source": []
  },
  {
   "cell_type": "code",
   "execution_count": 3,
   "metadata": {},
   "outputs": [],
   "source": [
    "frames_np = np.stack(all_frames) / (255**2)\n",
    "frames_np = frames_np / frames_np.max()"
   ]
  },
  {
   "cell_type": "code",
   "execution_count": 21,
   "metadata": {},
   "outputs": [
    {
     "name": "stdout",
     "output_type": "stream",
     "text": [
      "Loading simulation config file from ../configs/data_generator/simulator/evs_explorer.yml\n",
      "Loading sensor config file from ../configs/data_generator/simulator/davis_model.yml\n",
      "GPU is available and will be used (cuda:0).\n",
      "initializing pytorch / CUDA ... done\n",
      "Running EVS Explorer 2.0.0\n",
      "Loading frames from: ImageGenerator\n",
      "The given update noise frequency will allow only to see up to 10.0 Hz of noise, but it actually goes up to 147 Hz on average!\n",
      "dumping config to output/config/ImageGenerator/sim_config.yml\n",
      "dumping config to output/config/ImageGenerator/sensor_config.yml\n"
     ]
    },
    {
     "name": "stderr",
     "output_type": "stream",
     "text": [
      " 65%|██████▌   | 261/401 [00:03<00:02, 51.29it/s]\n",
      "\n",
      "\n",
      "\n",
      " 99%|█████████▉| 397/401 [00:05<00:00, 90.40it/s]"
     ]
    },
    {
     "name": "stdout",
     "output_type": "stream",
     "text": [
      "timing:\n",
      " - FramesExtractor: 0.00s = 0.00%\n",
      " - ConvertLuxToIrradiance: 0.00s = 0.06%\n",
      " - StdoutProgressBar: 0.03s = 0.50%\n",
      " - Convert8bitToLux: 0.04s = 0.79%\n",
      " - ConvertToTorch: 0.06s = 1.05%\n",
      " - SensorModelNode: 5.18s = 95.94%\n",
      "All nodes: 5.31 seconds\n",
      "Total runtime: 5.40 seconds\n",
      "Total simulation time: 0.80 seconds\n",
      " -> simulation speed: 6.748633682727814 seconds realtime per second of simulation\n",
      "output: sensor_data\n",
      "499733\n"
     ]
    },
    {
     "name": "stderr",
     "output_type": "stream",
     "text": [
      "100%|██████████| 401/401 [00:23<00:00, 90.40it/s]"
     ]
    },
    {
     "ename": "",
     "evalue": "",
     "output_type": "error",
     "traceback": [
      "\u001b[1;31mThe Kernel crashed while executing code in the current cell or a previous cell. \n",
      "\u001b[1;31mPlease review the code in the cell(s) to identify a possible cause of the failure. \n",
      "\u001b[1;31mClick <a href='https://aka.ms/vscodeJupyterKernelCrash'>here</a> for more info. \n",
      "\u001b[1;31mView Jupyter <a href='command:jupyter.viewOutput'>log</a> for further details."
     ]
    }
   ],
   "source": [
    "import evs_explorer\n",
    "\n",
    "from dynamic_fusion.data_generator.event_generator import ImageGenerator\n",
    "\n",
    "EVS_EXPLORER_CONFIG = \"../configs/data_generator/simulator/evs_explorer.yml\"\n",
    "DAVIS_CONFIG = \"../configs/data_generator/simulator/davis_model.yml\"\n",
    "THRESHOLD = 1.3\n",
    "MIN_ILLUMINANCE = 650\n",
    "MAX_ILLUMINANCE = 12500\n",
    "\n",
    "image_generator = ImageGenerator(data=frames_np*255, fps=500, num_frames=len(all_frames))\n",
    "\n",
    "\n",
    "scfg = evs_explorer.Configuration.from_yaml(\n",
    "    simulator_config=EVS_EXPLORER_CONFIG,\n",
    "    sensor_config=DAVIS_CONFIG,\n",
    "    sensor_model=\"davis_model\",\n",
    ")\n",
    "\n",
    "scfg.input.source = image_generator\n",
    "scfg.optics.max_illuminance_lux = MAX_ILLUMINANCE\n",
    "scfg.optics.min_illuminance_lux = MIN_ILLUMINANCE\n",
    "scfg.sensor.ONth_mul = THRESHOLD\n",
    "scfg.sensor.OFFth_mul = THRESHOLD\n",
    "\n",
    "evs_explorer = evs_explorer.EvsExplorer(scfg)\n",
    "events = evs_explorer.run(\"sensor_data\")\n",
    "print(len(events))"
   ]
  },
  {
   "cell_type": "code",
   "execution_count": null,
   "metadata": {},
   "outputs": [],
   "source": []
  }
 ],
 "metadata": {
  "kernelspec": {
   "display_name": "thesis",
   "language": "python",
   "name": "python3"
  },
  "language_info": {
   "codemirror_mode": {
    "name": "ipython",
    "version": 3
   },
   "file_extension": ".py",
   "mimetype": "text/x-python",
   "name": "python",
   "nbconvert_exporter": "python",
   "pygments_lexer": "ipython3",
   "version": "3.9.18"
  }
 },
 "nbformat": 4,
 "nbformat_minor": 2
}
