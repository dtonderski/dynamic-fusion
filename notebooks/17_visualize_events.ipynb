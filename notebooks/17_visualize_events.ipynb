{
 "cells": [
  {
   "cell_type": "code",
   "execution_count": 7,
   "metadata": {},
   "outputs": [],
   "source": [
    "from pathlib import Path\n",
    "\n",
    "\n",
    "EVENTS = Path('../data/raw/e2vid/popping_water_balloon.txt')"
   ]
  },
  {
   "cell_type": "code",
   "execution_count": 8,
   "metadata": {},
   "outputs": [],
   "source": [
    "import numpy as np\n",
    "import pandas as pd\n",
    "events = pd.read_csv(EVENTS, sep=\" \", header=None, skiprows=[0], names = [\"timestamp\", \"x\", \"y\", \"polarity\"], dtype={'a': np.float64, 'x': np.int64, 'y': np.int64, 'polarity': np.int64})\n",
    "events.timestamp -= events.timestamp[0]\n",
    "events.polarity = events.polarity > 0"
   ]
  },
  {
   "cell_type": "code",
   "execution_count": 9,
   "metadata": {},
   "outputs": [],
   "source": [
    "import numpy as np\n",
    "\n",
    "\n",
    "bin_size = 0.02\n",
    "\n",
    "number_of_temporal_bins = int(np.ceil((events.timestamp.max() / bin_size)))\n",
    "max_t = number_of_temporal_bins * bin_size"
   ]
  },
  {
   "cell_type": "code",
   "execution_count": 10,
   "metadata": {},
   "outputs": [],
   "source": [
    "from dynamic_fusion.data_generator.event_discretizer import EventDiscretizer\n",
    "from dynamic_fusion.data_generator.configuration import EventDiscretizerConfiguration\n",
    "\n",
    "config = EventDiscretizerConfiguration(number_of_temporal_bins=number_of_temporal_bins, number_of_temporal_sub_bins_per_bin=1)\n",
    "\n",
    "discretizer = EventDiscretizer(config, max_timestamp=max_t)\n",
    "size = (events.x.max() + 1, events.y.max() + 1 )\n",
    "\n",
    "discretized_events = discretizer.run({1: events}, (size[1], size[0]))\n",
    "discretized_events = discretized_events[1]"
   ]
  },
  {
   "cell_type": "code",
   "execution_count": 11,
   "metadata": {},
   "outputs": [
    {
     "data": {
      "text/plain": [
       "(array([1204390., 1265122., 1213988., 1210140., 1175666., 1684187.,\n",
       "        1026196.,  805030., 1139428., 1025853.]),\n",
       " array([0.    , 0.2408, 0.4816, 0.7224, 0.9632, 1.204 , 1.4448, 1.6856,\n",
       "        1.9264, 2.1672, 2.408 ]),\n",
       " <BarContainer object of 10 artists>)"
      ]
     },
     "execution_count": 11,
     "metadata": {},
     "output_type": "execute_result"
    },
    {
     "data": {
      "image/png": "[encoded data removed]",
      "text/plain": [
       "<Figure size 640x480 with 1 Axes>"
      ]
     },
     "metadata": {},
     "output_type": "display_data"
    }
   ],
   "source": [
    "from matplotlib import pyplot as plt\n",
    "plt.hist(events.timestamp)"
   ]
  },
  {
   "cell_type": "code",
   "execution_count": 12,
   "metadata": {},
   "outputs": [
    {
     "data": {
      "text/plain": [
       "15.8840107627356"
      ]
     },
     "execution_count": 12,
     "metadata": {},
     "output_type": "execute_result"
    }
   ],
   "source": [
    "len(events) / events.timestamp.max() / (events.x.max() + 1) / (events.y.max() + 1)"
   ]
  },
  {
   "cell_type": "code",
   "execution_count": 13,
   "metadata": {},
   "outputs": [],
   "source": [
    "from matplotlib import pyplot as plt\n",
    "import numpy as np\n",
    "\n",
    "from dynamic_fusion.utils.network import to_numpy\n",
    "from dynamic_fusion.utils.visualization import create_red_blue_cmap, img_to_colormap\n",
    "import cv2\n",
    "\n",
    "\n",
    "out = cv2.VideoWriter(\"real_water.mp4\", cv2.VideoWriter.fourcc(*\"mp4v\"), 10, size)\n",
    "\n",
    "font = cv2.FONT_HERSHEY_SIMPLEX\n",
    "font_scale = 1\n",
    "font_color = (255, 255, 255)  # White color\n",
    "line_type = 2\n",
    "position = (10, 50)  # Position of the text (bottom left corner)\n",
    "\n",
    "\n",
    "for i, eps in enumerate(discretized_events.event_polarity_sum):\n",
    "    colored_event_polarity_sum = img_to_colormap(to_numpy(eps.sum(dim=0)), create_red_blue_cmap(501))\n",
    "\n",
    "    evr = discretized_events.event_count[i].sum(dim=0).mean() * number_of_temporal_bins / max_t\n",
    "\n",
    "    frame_processed = (colored_event_polarity_sum[::-1] * 255).astype(np.uint8)\n",
    "\n",
    "\n",
    "    cv2.putText(frame_processed, f\"Events per second per pixel={evr:.2f}\", position, font, font_scale, font_color, line_type)\n",
    "\n",
    "    out.write(frame_processed)\n",
    "out.release()\n"
   ]
  },
  {
   "cell_type": "code",
   "execution_count": null,
   "metadata": {},
   "outputs": [],
   "source": []
  }
 ],
 "metadata": {
  "kernelspec": {
   "display_name": "thesis",
   "language": "python",
   "name": "python3"
  },
  "language_info": {
   "codemirror_mode": {
    "name": "ipython",
    "version": 3
   },
   "file_extension": ".py",
   "mimetype": "text/x-python",
   "name": "python",
   "nbconvert_exporter": "python",
   "pygments_lexer": "ipython3",
   "version": "3.9.18"
  }
 },
 "nbformat": 4,
 "nbformat_minor": 2
}
