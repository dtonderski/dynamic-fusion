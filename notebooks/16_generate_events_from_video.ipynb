{
 "cells": [
  {
   "cell_type": "code",
   "execution_count": 1,
   "metadata": {},
   "outputs": [],
   "source": [
    "from pathlib import Path\n",
    "\n",
    "\n",
    "VIDEO = Path('../data/raw/e2vid/water_balloon_120fps.mp4')"
   ]
  },
  {
   "cell_type": "code",
   "execution_count": 2,
   "metadata": {},
   "outputs": [
    {
     "name": "stderr",
     "output_type": "stream",
     "text": [
      "/home/davton/.local/lib/python3.9/site-packages/tqdm/auto.py:21: TqdmWarning: IProgress not found. Please update jupyter and ipywidgets. See https://ipywidgets.readthedocs.io/en/stable/user_install.html\n",
      "  from .autonotebook import tqdm as notebook_tqdm\n"
     ]
    },
    {
     "name": "stdout",
     "output_type": "stream",
     "text": [
      "Loading simulation config file from ../configs/data_generator/simulator/evs_explorer.yml\n",
      "Loading sensor config file from ../configs/data_generator/simulator/davis_model.yml\n",
      "GPU is available and will be used (cuda:0).\n",
      "initializing pytorch / CUDA ... done\n"
     ]
    }
   ],
   "source": [
    "import evs_explorer\n",
    "\n",
    "scfg = evs_explorer.Configuration.from_yaml(\n",
    "    simulator_config='../configs/data_generator/simulator/evs_explorer.yml',\n",
    "    sensor_config='../configs/data_generator/simulator/davis_model.yml',\n",
    "    sensor_model='davis_model'\n",
    ")\n",
    "\n",
    "\n",
    "\n",
    "scfg.input.source = VIDEO # TODO: better way of handling this?\n",
    "threshold = 1.08\n",
    "min_illuminance_lux = 650\n",
    "max_illuminance_lux = 12500\n",
    "scfg.input.desired_width = 640\n",
    "\n",
    "scfg.optics.max_illuminance_lux = max_illuminance_lux\n",
    "scfg.optics.min_illuminance_lux = min_illuminance_lux\n",
    "scfg.sensor.ONth_mul = threshold\n",
    "scfg.sensor.OFFth_mul = threshold\n",
    "\n"
   ]
  },
  {
   "cell_type": "code",
   "execution_count": 3,
   "metadata": {},
   "outputs": [
    {
     "name": "stdout",
     "output_type": "stream",
     "text": [
      "Running EVS Explorer 2.0.0\n",
      "Loading frames from: ../data/raw/e2vid/water_balloon_120fps.mp4\n",
      "The given update noise frequency will allow only to see up to 10.0 Hz of noise, but it actually goes up to 147 Hz on average!\n",
      "dumping config to output/config/water_balloon_120fps/sim_config.yml\n",
      "dumping config to output/config/water_balloon_120fps/sensor_config.yml\n"
     ]
    },
    {
     "name": "stderr",
     "output_type": "stream",
     "text": [
      " 67%|██████▋   | 416/617 [00:10<00:04, 46.14it/s]"
     ]
    },
    {
     "name": "stdout",
     "output_type": "stream",
     "text": [
      "timing:\n",
      " - ConvertLuxToIrradiance: 0.00s = 0.04%\n",
      " - ConvertBGRtoGrayscale: 0.02s = 0.14%\n",
      " - StdoutProgressBar: 0.06s = 0.57%\n",
      " - Convert8bitToLux: 0.07s = 0.64%\n",
      " - FramesExtractor: 0.09s = 0.85%\n",
      " - ConvertToTorch: 0.37s = 3.48%\n",
      " - Downsample: 0.53s = 5.02%\n",
      " - SensorModelNode: 9.29s = 88.02%\n",
      "All nodes: 10.42 seconds\n",
      "Total runtime: 10.55 seconds\n",
      "Total simulation time: 5.13 seconds\n",
      " -> simulation speed: 2.0550438955232693 seconds realtime per second of simulation\n",
      "output: sensor_data\n"
     ]
    }
   ],
   "source": [
    "evs = evs_explorer.EvsExplorer(scfg)\n",
    "events = evs.run(\"sensor_data\")"
   ]
  },
  {
   "cell_type": "code",
   "execution_count": 4,
   "metadata": {},
   "outputs": [],
   "source": [
    "import numpy as np\n",
    "\n",
    "\n",
    "bin_size = 0.02\n",
    "\n",
    "number_of_temporal_bins = int(np.ceil((events.timestamp.max() / bin_size)))\n",
    "max_t = number_of_temporal_bins * bin_size"
   ]
  },
  {
   "cell_type": "code",
   "execution_count": 5,
   "metadata": {},
   "outputs": [],
   "source": [
    "from dynamic_fusion.data_generator.event_discretizer import EventDiscretizer\n",
    "from dynamic_fusion.data_generator.configuration import EventDiscretizerConfiguration\n",
    "\n",
    "config = EventDiscretizerConfiguration(number_of_temporal_bins=number_of_temporal_bins, number_of_temporal_sub_bins_per_bin=1)\n",
    "\n",
    "discretizer = EventDiscretizer(config, max_timestamp=max_t)\n",
    "size = (events.x.max() + 1, events.y.max() + 1 )\n",
    "\n",
    "discretized_events = discretizer.run({1: events}, (size[1], size[0]))\n",
    "discretized_events = discretized_events[1]"
   ]
  },
  {
   "cell_type": "code",
   "execution_count": 6,
   "metadata": {},
   "outputs": [
    {
     "data": {
      "text/plain": [
       "15.64313216527433"
      ]
     },
     "execution_count": 6,
     "metadata": {},
     "output_type": "execute_result"
    }
   ],
   "source": [
    "len(events) / events.timestamp.max() / (events.x.max() + 1) / (events.y.max() + 1)"
   ]
  },
  {
   "cell_type": "code",
   "execution_count": 7,
   "metadata": {},
   "outputs": [
    {
     "name": "stderr",
     "output_type": "stream",
     "text": [
      " 68%|██████▊   | 417/617 [00:29<00:04, 46.14it/s]"
     ]
    }
   ],
   "source": [
    "from matplotlib import pyplot as plt\n",
    "import numpy as np\n",
    "\n",
    "from dynamic_fusion.utils.network import to_numpy\n",
    "from dynamic_fusion.utils.visualization import create_red_blue_cmap, img_to_colormap\n",
    "import cv2\n",
    "\n",
    "size = (events.x.max() + 1, events.y.max() + 1 )\n",
    "\n",
    "out = cv2.VideoWriter(\"simulated_water_1.08.mp4\", cv2.VideoWriter.fourcc(*\"mp4v\"), 10, size)\n",
    "\n",
    "font = cv2.FONT_HERSHEY_SIMPLEX\n",
    "font_scale = 1\n",
    "font_color = (255, 255, 255)  # White color\n",
    "line_type = 2\n",
    "position = (10, 50)  # Position of the text (bottom left corner)\n",
    "\n",
    "\n",
    "for i, eps in enumerate(discretized_events.event_polarity_sum):\n",
    "    colored_event_polarity_sum = img_to_colormap(to_numpy(eps.sum(dim=0)), create_red_blue_cmap(501))\n",
    "\n",
    "    evr = discretized_events.event_count[i].sum(dim=0).mean() * number_of_temporal_bins / max_t\n",
    "\n",
    "    frame_processed = (colored_event_polarity_sum[:, ::-1] * 255).astype(np.uint8)\n",
    "\n",
    "\n",
    "    cv2.putText(frame_processed, f\"Events per second per pixel={evr:.2f}\", position, font, font_scale, font_color, line_type)\n",
    "\n",
    "    out.write(frame_processed)\n",
    "out.release()\n"
   ]
  },
  {
   "cell_type": "code",
   "execution_count": null,
   "metadata": {},
   "outputs": [],
   "source": []
  }
 ],
 "metadata": {
  "kernelspec": {
   "display_name": "thesis",
   "language": "python",
   "name": "python3"
  },
  "language_info": {
   "codemirror_mode": {
    "name": "ipython",
    "version": 3
   },
   "file_extension": ".py",
   "mimetype": "text/x-python",
   "name": "python",
   "nbconvert_exporter": "python",
   "pygments_lexer": "ipython3",
   "version": "3.9.18"
  }
 },
 "nbformat": 4,
 "nbformat_minor": 2
}
