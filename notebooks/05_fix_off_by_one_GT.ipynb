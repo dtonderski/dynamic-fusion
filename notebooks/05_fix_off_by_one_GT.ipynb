{
 "cells": [
  {
   "cell_type": "code",
   "execution_count": 49,
   "metadata": {},
   "outputs": [],
   "source": [
    "from pathlib import Path\n",
    "\n",
    "import h5py\n",
    "import numpy as np\n",
    "import torch\n",
    "\n",
    "dataset_dir = Path(\"../data/interim/coco/2subbins\")\n",
    "number_of_images_to_generate_per_input = 2001\n",
    "number_of_temporal_bins = 100\n",
    "h5_compression = 3"
   ]
  },
  {
   "cell_type": "code",
   "execution_count": 50,
   "metadata": {},
   "outputs": [],
   "source": [
    "index = 1\n",
    "\n",
    "directory_list = [\n",
    "    path for path in dataset_dir.glob(\"**/*\") if path.is_dir()\n",
    "]\n",
    "\n",
    "video_path = directory_list[index] / \"ground_truth.h5\"\n",
    "with h5py.File(video_path, \"r\") as file:\n",
    "    video = np.array(file[\"synchronized_video\"])\n",
    "\n",
    "input_path = directory_list[index] / \"input.h5\"\n",
    "with h5py.File(input_path, \"r\") as file:\n",
    "    generated_video = np.array(file[\"generated_video\"])\n"
   ]
  },
  {
   "cell_type": "code",
   "execution_count": 51,
   "metadata": {},
   "outputs": [],
   "source": [
    "assert (\n",
    "    number_of_images_to_generate_per_input - 1\n",
    ") % number_of_temporal_bins == 0\n",
    "\n",
    "discretized_frame_length = (\n",
    "    number_of_images_to_generate_per_input - 1\n",
    ") // number_of_temporal_bins\n",
    "\n",
    "indices = torch.arange(\n",
    "    discretized_frame_length,\n",
    "    number_of_images_to_generate_per_input,\n",
    "    discretized_frame_length,\n",
    "    dtype=torch.int64,\n",
    ")\n",
    "new_synchronized_video = generated_video[indices]"
   ]
  },
  {
   "cell_type": "code",
   "execution_count": 52,
   "metadata": {},
   "outputs": [],
   "source": [
    "with h5py.File(video_path, \"w\") as file:\n",
    "    file.create_dataset(\n",
    "        \"/synchronized_video\",\n",
    "        data=new_synchronized_video,\n",
    "        compression=\"gzip\",\n",
    "        compression_opts=h5_compression,\n",
    "    )\n"
   ]
  }
 ],
 "metadata": {
  "kernelspec": {
   "display_name": "thesis2",
   "language": "python",
   "name": "python3"
  },
  "language_info": {
   "codemirror_mode": {
    "name": "ipython",
    "version": 3
   },
   "file_extension": ".py",
   "mimetype": "text/x-python",
   "name": "python",
   "nbconvert_exporter": "python",
   "pygments_lexer": "ipython3",
   "version": "3.9.18"
  }
 },
 "nbformat": 4,
 "nbformat_minor": 2
}
