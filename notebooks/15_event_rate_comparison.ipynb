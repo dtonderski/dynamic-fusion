{
 "cells": [
  {
   "cell_type": "code",
   "execution_count": 1,
   "metadata": {},
   "outputs": [
    {
     "name": "stderr",
     "output_type": "stream",
     "text": [
      "/home/davton/.local/lib/python3.9/site-packages/tqdm/auto.py:21: TqdmWarning: IProgress not found. Please update jupyter and ipywidgets. See https://ipywidgets.readthedocs.io/en/stable/user_install.html\n",
      "  from .autonotebook import tqdm as notebook_tqdm\n"
     ]
    }
   ],
   "source": [
    "from pathlib import Path\n",
    "\n",
    "import torch\n",
    "\n",
    "from dynamic_fusion.network_trainer.configuration import TrainerConfiguration\n",
    "from dynamic_fusion.network_trainer.network_loader import NetworkLoader\n",
    "\n",
    "from pathlib import Path\n",
    "from dynamic_fusion.utils.dataset import CocoTestDataset\n",
    "from dynamic_fusion.utils.dataset import collate_test_items\n",
    "from dynamic_fusion.utils.evaluation import get_metrics\n",
    "\n",
    "\n",
    "dataset_path = Path('..', 'data', 'interim', 'coco', 'test', '2subbins')\n",
    "\n",
    "\n",
    "metrics_temporal_scale = []\n",
    "spatial_scale = 1\n",
    "temporal_scale = 1\n",
    "for spatial_scale in range(1,4):\n",
    "    dataset = CocoTestDataset(dataset_path, (spatial_scale, spatial_scale), threshold=1.3)"
   ]
  },
  {
   "cell_type": "code",
   "execution_count": null,
   "metadata": {},
   "outputs": [],
   "source": [
    "events = []\n",
    "\n",
    "with h5py.File(self.directory_list[index] / f\"events.h5\", \"r\") as file:\n",
    "    discretized_events = DiscretizedEvents.load_from_file(file)\n"
   ]
  },
  {
   "cell_type": "code",
   "execution_count": 5,
   "metadata": {},
   "outputs": [
    {
     "data": {
      "text/plain": [
       "torch.Size([150, 2, 106, 106])"
      ]
     },
     "execution_count": 5,
     "metadata": {},
     "output_type": "execute_result"
    }
   ],
   "source": [
    "bin_size = 0.002\n",
    "\n",
    "count = dataset[0][7]\n",
    "count.shape"
   ]
  },
  {
   "cell_type": "code",
   "execution_count": 8,
   "metadata": {},
   "outputs": [
    {
     "data": {
      "text/plain": [
       "0.05"
      ]
     },
     "execution_count": 8,
     "metadata": {},
     "output_type": "execute_result"
    }
   ],
   "source": [
    "5/100\n"
   ]
  }
 ],
 "metadata": {
  "kernelspec": {
   "display_name": "thesis",
   "language": "python",
   "name": "python3"
  },
  "language_info": {
   "codemirror_mode": {
    "name": "ipython",
    "version": 3
   },
   "file_extension": ".py",
   "mimetype": "text/x-python",
   "name": "python",
   "nbconvert_exporter": "python",
   "pygments_lexer": "ipython3",
   "version": "3.9.18"
  }
 },
 "nbformat": 4,
 "nbformat_minor": 2
}
